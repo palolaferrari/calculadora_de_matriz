{
 "cells": [
  {
   "cell_type": "code",
   "execution_count": 122,
   "id": "326ed8a4-3363-46d5-9fb9-78b5344c6617",
   "metadata": {},
   "outputs": [],
   "source": [
    "def matriz_zeros(m,n):\n",
    "    \"\"\"Produz uma matriz C com dimensões m e n e elementos iguais a zero.\n",
    "    \n",
    "    Argumentos:\n",
    "    \n",
    "        m: número de linhas\n",
    "        n: número de colunas\n",
    "        \n",
    "    Retorno:\n",
    "        \n",
    "        C: uma matriz com m por n dimensões e cada elemento é 0.\n",
    "        \n",
    "    \"\"\"\n",
    "    C = []\n",
    "    for i in range(m):\n",
    "        D = []\n",
    "        for j in range(n):\n",
    "            D.append(0)\n",
    "        C.append(D)\n",
    "    return (C)"
   ]
  },
  {
   "cell_type": "code",
   "execution_count": 123,
   "id": "18ba3535-b7fc-49d7-9a7a-8aa6bc9eb336",
   "metadata": {},
   "outputs": [
    {
     "data": {
      "text/plain": [
       "[[0, 0, 0], [0, 0, 0], [0, 0, 0]]"
      ]
     },
     "execution_count": 123,
     "metadata": {},
     "output_type": "execute_result"
    }
   ],
   "source": [
    "matriz_zeros(3,3)"
   ]
  },
  {
   "cell_type": "code",
   "execution_count": 124,
   "id": "d31a8863-19f1-4b08-92a7-8fe14873c2c7",
   "metadata": {},
   "outputs": [],
   "source": [
    "def soma_matrizes(A,B):\n",
    "    \"\"\"Faz a soma de duas matrizes se elas tiverem as mesmas dimensões.\n",
    "    \n",
    "    Argumentos:\n",
    "    \n",
    "        A: uma matriz na forma de lista de listas.\n",
    "        B: uma matriz na forma de lista de listas.\n",
    "        \n",
    "    Retorno:\n",
    "    \n",
    "        C: uma matriz que é igual a soma de A e B.\n",
    "        \n",
    "    \"\"\"\n",
    "    \n",
    "    m = len(A) # linhas de A\n",
    "    n = len(A[0]) # colunas de A\n",
    "    o = len(B) # linhas de B\n",
    "    t = len(B[0]) # colunas de B\n",
    "    \n",
    "    C = matriz_zeros(m,n)\n",
    "    \n",
    "    if m == o and n == t:\n",
    "        for l in range(m):\n",
    "            for s in range(n):\n",
    "                C[l][s] = A[l][s] + B[l][s]\n",
    "    \n",
    "        return(C)\n",
    "    else:\n",
    "        print(\"As matrizes não possuem as dimensões iguais\")"
   ]
  },
  {
   "cell_type": "code",
   "execution_count": 125,
   "id": "937adb1c-8d89-4c7e-bced-bab7c2149f70",
   "metadata": {},
   "outputs": [
    {
     "data": {
      "text/plain": [
       "[[2, 6, 10], [14, 18, 2], [6, 10, 14]]"
      ]
     },
     "execution_count": 125,
     "metadata": {},
     "output_type": "execute_result"
    }
   ],
   "source": [
    "M1 = [[1,3,5],[7,9,1],[3,5,7]]\n",
    "\n",
    "soma_matrizes(M1,M1)"
   ]
  },
  {
   "cell_type": "code",
   "execution_count": 126,
   "id": "5829fc7e-8ed1-4154-ad11-1636992130b6",
   "metadata": {},
   "outputs": [],
   "source": [
    "def matriz_escalar(A,k):\n",
    "    \"\"\"Calcula a multiplicação de uma matriz por um escalar.\n",
    "    \n",
    "    Argumentos:\n",
    "    \n",
    "        A: uma matriz na forma de lista de listas.\n",
    "        k: um escalar.\n",
    "        \n",
    "    Retorno:\n",
    "    \n",
    "        C: o resultado da multiplicação.\n",
    "        \n",
    "    \"\"\"\n",
    "    m = len(A) # linhas de A\n",
    "    n = len(A[0]) # colunas de A\n",
    "    \n",
    "    C = matriz_zeros(m,n) #cria uma matrize de zeros, do tamanho das linhas e colunas de A\n",
    "    \n",
    "    for l in range(m):\n",
    "        for s in range(n):\n",
    "            C[l][s] = A[l][s] * k # multiplicação pelo escalar\n",
    "    return(C)"
   ]
  },
  {
   "cell_type": "code",
   "execution_count": 127,
   "id": "c3ce0af3-8d2b-4b0b-bb6b-b6654d188615",
   "metadata": {},
   "outputs": [
    {
     "data": {
      "text/plain": [
       "[[15.0, 100, -33.0], [1400, -517.3, 60], [90, 0, 0]]"
      ]
     },
     "execution_count": 127,
     "metadata": {},
     "output_type": "execute_result"
    }
   ],
   "source": [
    "M5 = [[1.5,10,-3.3],[140,-51.73,6],[9,0,0]]\n",
    "matriz_escalar(M5,10)"
   ]
  },
  {
   "cell_type": "code",
   "execution_count": 128,
   "id": "2b520a82-591f-43a5-b4f4-cf5fb5a2b966",
   "metadata": {},
   "outputs": [],
   "source": [
    "def mult_matrizes(A,B):\n",
    "    \"\"\"Calcula a multiplicação de uma matriz A por B, nessa ordem, por meio da multiplicação comum de matrizes,\n",
    "    sendo que a função retorna um valor caso o número de colunas da matriz A seja igual ao de linhas da matriz B.\n",
    "    \n",
    "    Argumentos:\n",
    "        \n",
    "        A: uma matriz na forma de lista de listas.\n",
    "        B: uma matriz na forma de lista de listas.\n",
    "        \n",
    "    Retorna:\n",
    "    \n",
    "        C: matriz resultado da multiplicação de A por B.\n",
    "        \n",
    "    \"\"\"\n",
    "    \n",
    "    m = len(A) # linhas de A\n",
    "    n = len(A[0]) # colunas de A\n",
    "    o = len(B[0]) # colunas de B\n",
    "    t = len(B) # linhas de B\n",
    "    \n",
    "    C = matriz_zeros(m,o)\n",
    "        \n",
    "    if n == t: \n",
    "        for l in range(m):\n",
    "            for s in range(n):\n",
    "                 for r in range(o):   \n",
    "                    C[l][r] += A[l][s] * B[s][r] #linha e coluna x linha e coluna\n",
    "        return(C)\n",
    "    else:\n",
    "        print(\"A matriz A possui número de colunas diferente do número de linhas da matriz B\")"
   ]
  },
  {
   "cell_type": "code",
   "execution_count": 129,
   "id": "21a72ace-eeae-4645-9597-7011ed2f8cd1",
   "metadata": {
    "tags": []
   },
   "outputs": [
    {
     "data": {
      "text/plain": [
       "[[778.0, -278.65, 36.6], [-19.5, 110.0, -36.3], [1756.5, -590.76, 62.1]]"
      ]
     },
     "execution_count": 129,
     "metadata": {},
     "output_type": "execute_result"
    }
   ],
   "source": [
    "M3 = [[-2,5,9],[11,0,-4],[3,12,8]]\n",
    "M5 = [[1.5,10,-3.3],[140,-51.73,6],[9,0,0]]\n",
    "\n",
    "mult_matrizes(M3,M5)"
   ]
  },
  {
   "cell_type": "code",
   "execution_count": 130,
   "id": "1a554361-e93c-4869-957c-3ad219fd9514",
   "metadata": {},
   "outputs": [
    {
     "data": {
      "text/plain": [
       "[[1, 0, 0, 0], [0, 1, 0, 0], [0, 0, 1, 0], [0, 0, 0, 1]]"
      ]
     },
     "execution_count": 130,
     "metadata": {},
     "output_type": "execute_result"
    }
   ],
   "source": [
    "I4 = [[1,0,0,0],[0,1,0,0],[0,0,1,0],[0,0,0,1]]\n",
    "I3 = [[1,0,0],[0,1,0],[0,0,1]]\n",
    "I2 = [[1,0],[0,1]]\n",
    "mult_matrizes(I4,I4) #identidade"
   ]
  },
  {
   "cell_type": "code",
   "execution_count": 131,
   "id": "87e2f18e-e593-4e19-9876-dc934e9e4d6e",
   "metadata": {},
   "outputs": [],
   "source": [
    "def transposta(A):\n",
    "    \"\"\"Calcula a matriz transposta de A.\n",
    "    \n",
    "    Argumentos:\n",
    "    \n",
    "        A: matriz na forma de listas de listas.\n",
    "        \n",
    "    Retorno:\n",
    "    \n",
    "        C: matriz transposta de A.\n",
    "    \n",
    "    \"\"\"\n",
    "\n",
    "    m = len(A) #linha\n",
    "    n = len(A[0]) #coluna\n",
    "    \n",
    "    C = matriz_zeros(m,n)\n",
    "    \n",
    "    for p in range(m):\n",
    "        for q in range( n):\n",
    "            C[q][p] = A[p][q] #coloca as coisas na lista nova, com as colunas e linhas invertidas\n",
    "    return (C)"
   ]
  },
  {
   "cell_type": "code",
   "execution_count": 132,
   "id": "77378037-bc7b-4f6f-98d0-883b4902755e",
   "metadata": {},
   "outputs": [
    {
     "data": {
      "text/plain": [
       "[[1, 7, 3], [3, 9, 5], [5, 1, 7]]"
      ]
     },
     "execution_count": 132,
     "metadata": {},
     "output_type": "execute_result"
    }
   ],
   "source": [
    "M1 = [[1,3,5],[7,9,1],[3,5,7]]\n",
    "\n",
    "transposta(M1)"
   ]
  },
  {
   "cell_type": "code",
   "execution_count": 133,
   "id": "6dc41bcc-4714-453f-bb14-a6dbac1cc0f8",
   "metadata": {},
   "outputs": [],
   "source": [
    "def determinante(matriz_original):\n",
    "    \"\"\"Calcula o determinante de uma matriz V, por meio de recursão e do teorema de laplace.\n",
    "    \n",
    "    Argumentos:\n",
    "        V: uma matriz na forma de listas de listas\n",
    "        \n",
    "    Retorna:\n",
    "        O determinante da matriz\n",
    "        \n",
    "    \"\"\"\n",
    "\n",
    "    acumulador_matrizes = 0\n",
    "\n",
    "    if len(matriz_original) == 2 and len(matriz_original[0]) == 2:\n",
    "        matriz_2x2 = matriz_original[0][0]*matriz_original[1][1] - matriz_original[0][1]*matriz_original[1][0] #criterio de parada\n",
    "        return matriz_2x2\n",
    "    \n",
    "   \n",
    "    for i in range(len(matriz_original[0])):\n",
    "        matriz_original_copia = matriz_original.copy()\n",
    "        #print(mc)\n",
    "        cofator = (matriz_original_copia[0][i])*((-1)**(i))\n",
    "        #print(c)\n",
    "        matriz_2 = matriz_original_copia[1:]\n",
    "\n",
    "        #print(f)\n",
    "       \n",
    "        for n in range(len(matriz_2)):\n",
    "            linha0 = matriz_2[n][0:i]\n",
    "            linha1 = matriz_2[n][i+1:]\n",
    "            matriz_2[n] = linha0 + linha1\n",
    "        #print(f)\n",
    "       \n",
    "        \n",
    "        acumulador_matrizes += determinante(matriz_2)*cofator\n",
    "       \n",
    "    return acumulador_matrizes \n",
    "    \n"
   ]
  },
  {
   "cell_type": "code",
   "execution_count": 134,
   "id": "4e5ec323-1493-4323-bed1-c98505a9411f",
   "metadata": {},
   "outputs": [
    {
     "data": {
      "text/plain": [
       "0"
      ]
     },
     "execution_count": 134,
     "metadata": {},
     "output_type": "execute_result"
    }
   ],
   "source": [
    "\n",
    "F = [[1,2,3,4],\n",
    "     [5,6,7,8],\n",
    "     [9,10,11,12],\n",
    "     [13,14,15,16],\n",
    "    ]\n",
    "determinante(M6)"
   ]
  },
  {
   "cell_type": "code",
   "execution_count": 135,
   "id": "a46deaf6-d18a-4360-899d-a17606730a95",
   "metadata": {},
   "outputs": [
    {
     "data": {
      "text/plain": [
       "0"
      ]
     },
     "execution_count": 135,
     "metadata": {},
     "output_type": "execute_result"
    }
   ],
   "source": [
    "M6 = [[1,0,0,1],[0,1,1,0],[0,1,1,0],[1,0,0,1]]\n",
    "determinante(M6)"
   ]
  },
  {
   "cell_type": "code",
   "execution_count": 136,
   "id": "633799ff-1e89-42e2-8c57-c781a7a40ab3",
   "metadata": {},
   "outputs": [],
   "source": [
    "def ProdutoEscalar(A,B):\n",
    "    \"\"\"Calcula o produto escalar de dois vetores de mesma dimensão.\n",
    "    \n",
    "    Argumentos:\n",
    "    \n",
    "        u: um vetor na forma de lista.\n",
    "        v: um vetor na forma de lista.\n",
    "        \n",
    "    Retorno:\n",
    "        \n",
    "        P: produto escalar de dois vetores\n",
    "    \"\"\"\n",
    "    \n",
    "    if len(u) == len(v): #Compara as dimensões dos vetores\n",
    "        P = 0\n",
    "        for i in range(len(u)): #Corre um for até o valor da dimensão\n",
    "            P = P + u[i]*v[i] #Acumula as somas da multiplicação de coordenada por coordenada\n",
    "        return(P)\n",
    "    else:\n",
    "        print(\"Vetores de dimensões diferentes\")"
   ]
  },
  {
   "cell_type": "code",
   "execution_count": 137,
   "id": "0d4da8e4-b690-447a-85f6-31ce42eecfdb",
   "metadata": {},
   "outputs": [
    {
     "data": {
      "text/plain": [
       "38"
      ]
     },
     "execution_count": 137,
     "metadata": {},
     "output_type": "execute_result"
    }
   ],
   "source": [
    "A,B = [2,4], [5,7]\n",
    "ProdutoEscalar(u,v)"
   ]
  },
  {
   "cell_type": "code",
   "execution_count": 138,
   "id": "46aa99ea-0fd0-4e8f-962e-6c54de8dbc55",
   "metadata": {},
   "outputs": [],
   "source": [
    "def Norma(A):\n",
    "    \"\"\"Calcula a norma (|| u ||) de um vetor A, na forma de lista.\n",
    "    \n",
    "    Argumentos:\n",
    "    \n",
    "        A: um vetor na forma de lista.\n",
    "        \n",
    "    Retorno:\n",
    "    \n",
    "        N: norma do vetor.\n",
    "    \"\"\"\n",
    "    M = 0\n",
    "    for c in A:\n",
    "        M = M + c**2 # soma e eleva ao quadrado o x e y\n",
    "    N = M**(1/2)     # tira a raiz  \n",
    "    return(N)"
   ]
  },
  {
   "cell_type": "code",
   "execution_count": 139,
   "id": "5a8f222c-40d3-4762-b656-ac7032c2f4fe",
   "metadata": {},
   "outputs": [
    {
     "data": {
      "text/plain": [
       "4.47213595499958"
      ]
     },
     "execution_count": 139,
     "metadata": {},
     "output_type": "execute_result"
    }
   ],
   "source": [
    "A= [2,4]\n",
    "Norma (A)"
   ]
  },
  {
   "cell_type": "code",
   "execution_count": 140,
   "id": "3341015e-39d9-473f-a146-b6caf07b575e",
   "metadata": {},
   "outputs": [],
   "source": [
    "import math as mt\n",
    "acos = mt.acos\n",
    "\n",
    "def ÂnguloEntreDoisVetores(A,B):\n",
    "    \"\"\"Calcula o ângulo entre dois vetores usando a função acos (arco cosseno) da biblioteca math e as funções\n",
    "    ProdutoEscalar e Norma.\n",
    "    \n",
    "    Argumentos:\n",
    "    \n",
    "        A: um vetor na forma de lista.\n",
    "        B: um vetor na forma de lista.\n",
    "        \n",
    "    Retorno:\n",
    "    \n",
    "        â: ângulo entre os dois vetores.\n",
    "    \"\"\"\n",
    "    \n",
    "    P = ProdutoEscalar(A,B)\n",
    "    NA = Norma(A)\n",
    "    NB = Norma(B)\n",
    "    â = acos(P/(NA*NB)) #fórmula que já existe\n",
    "    return(â)"
   ]
  },
  {
   "cell_type": "code",
   "execution_count": 141,
   "id": "6b2d2443-b0c1-44c1-a3fb-23b683308985",
   "metadata": {},
   "outputs": [
    {
     "data": {
      "text/plain": [
       "1.5654233707608163"
      ]
     },
     "execution_count": 141,
     "metadata": {},
     "output_type": "execute_result"
    }
   ],
   "source": [
    "A,B = [90,6], [8,78]\n",
    "ÂnguloEntreDoisVetores(A,B)"
   ]
  },
  {
   "cell_type": "code",
   "execution_count": 142,
   "id": "1722589e-2bc1-49c2-ab28-6e005285c801",
   "metadata": {},
   "outputs": [],
   "source": [
    "def ProdutoVetorial(A,B):\n",
    "    \"\"\"Calcula o produto vetorial entre vetores de dimensão 3, sendo A,B vetores na orientação positiva.\n",
    "    \n",
    "    Argumentos:\n",
    "    \n",
    "        A: um vetor de dimensão 3 na forma de lista.\n",
    "        B: um vetor de dimensão 3 na forma de lista.\n",
    "    \n",
    "    Retorno:\n",
    "    \n",
    "        P: produto vetorial entre os dois vetores.\n",
    "    \"\"\"\n",
    "    if len(A) == len(B) == 3:\n",
    "        P = [A[1]*B[2] - A[2]*B[1], A[2]*B[0] - A[0]*B[2], A[0]*B[1] - A[1]*B[0]]\n",
    "        return(P)\n",
    "    else:\n",
    "        print(\"Pelo menos um vetor não possui 3 dimensões\")"
   ]
  },
  {
   "cell_type": "code",
   "execution_count": 143,
   "id": "42d4c363-1e5f-4652-b471-b726b096d5a8",
   "metadata": {},
   "outputs": [
    {
     "data": {
      "text/plain": [
       "[-198, -516, 6972]"
      ]
     },
     "execution_count": 143,
     "metadata": {},
     "output_type": "execute_result"
    }
   ],
   "source": [
    "A,B = [90,6,3], [8,78,6]\n",
    "ProdutoVetorial(A,B)"
   ]
  },
  {
   "cell_type": "code",
   "execution_count": 144,
   "id": "b3d90d58-d4d7-4e15-ac35-ab3c423c2a94",
   "metadata": {},
   "outputs": [],
   "source": [
    "def identidade(A):\n",
    "    \"\"\"Cria uma matriz identidade com as mesmas dimensões da matriz de entrada\n",
    "    \n",
    "    Argurmentos:\n",
    "    \n",
    "        A: uma matriz na forma de lista de listas.\n",
    "        \n",
    "    Retorno:\n",
    "    \n",
    "        I: matriz identidade com as dimensões de A.\n",
    "    \n",
    "    \"\"\"\n",
    "\n",
    "    m = len(A)\n",
    "    n = len(A[0])\n",
    "    \n",
    "    I = matriz_zeros(m,n)\n",
    "    \n",
    "    if m == n: #se é quadrada: \n",
    "        for i in range (m):\n",
    "            for j in range (n):\n",
    "                if i == j: #quando os índices forem iguais, coloca o zero\n",
    "                    I[i][j] = 1\n",
    "    \n",
    "    return(I)"
   ]
  },
  {
   "cell_type": "code",
   "execution_count": 145,
   "id": "5e60ab8e-392b-44c6-997b-10cd887aad80",
   "metadata": {},
   "outputs": [
    {
     "data": {
      "text/plain": [
       "[[1, 0, 0], [0, 1, 0], [0, 0, 1]]"
      ]
     },
     "execution_count": 145,
     "metadata": {},
     "output_type": "execute_result"
    }
   ],
   "source": [
    "M3 = [[-2,5,9],[11,0,-4],[3,12,8]]\n",
    "identidade (M3)"
   ]
  },
  {
   "cell_type": "code",
   "execution_count": 146,
   "id": "53324aae-20b1-41fc-9273-114f9a6e5b95",
   "metadata": {},
   "outputs": [],
   "source": [
    "def ortogonal(A):\n",
    "    \"\"\"Verifica se um operador é ortogonal a partir de sua matriz de transformação.\n",
    "    \n",
    "    Argumentos:\n",
    "    \n",
    "        A: uma matriz na forma de lista de listas que represente a matriz de transformação de um operador\n",
    "    \n",
    "    Retorno:\n",
    "    \n",
    "        True, se o operador for ortogonal.\n",
    "        False, se o operador não for ortogonal.\n",
    "    \"\"\"\n",
    "    At = transposta(A)\n",
    "    print(At)\n",
    "    print(mult_matrizes(A,At))\n",
    "    if mult_matrizes(A,At) == mult_matrizes(At,A) == identidade(A):\n",
    "        return(True)\n",
    "    else:\n",
    "        return(False)"
   ]
  },
  {
   "cell_type": "code",
   "execution_count": 147,
   "id": "ab56e792-c0d8-4d09-8434-b04455bd34a5",
   "metadata": {},
   "outputs": [],
   "source": [
    "M3 = [[-2,5,9],[11,0,-4],[3,12,8]]\n",
    "M9 = [[1,0,0],[0,1,0],[0,0,1]]"
   ]
  },
  {
   "cell_type": "code",
   "execution_count": 148,
   "id": "24af1a9f-9c0e-4994-ad1c-956d02f91a19",
   "metadata": {},
   "outputs": [
    {
     "name": "stdout",
     "output_type": "stream",
     "text": [
      "[[1, 0, 0], [0, 1, 0], [0, 0, 1]]\n",
      "[[1, 0, 0], [0, 1, 0], [0, 0, 1]]\n"
     ]
    },
    {
     "data": {
      "text/plain": [
       "True"
      ]
     },
     "execution_count": 148,
     "metadata": {},
     "output_type": "execute_result"
    }
   ],
   "source": [
    "ortogonal(M9)"
   ]
  },
  {
   "cell_type": "code",
   "execution_count": 149,
   "id": "c0e2556e-2c3b-416d-bc77-17622dc8032a",
   "metadata": {},
   "outputs": [
    {
     "name": "stdout",
     "output_type": "stream",
     "text": [
      "[[-2, 11, 3], [5, 0, 12], [9, -4, 8]]\n",
      "[[110, -58, 126], [-58, 137, 1], [126, 1, 217]]\n"
     ]
    },
    {
     "data": {
      "text/plain": [
       "False"
      ]
     },
     "execution_count": 149,
     "metadata": {},
     "output_type": "execute_result"
    }
   ],
   "source": [
    "ortogonal (M3)"
   ]
  },
  {
   "cell_type": "code",
   "execution_count": 155,
   "id": "b4f11c18-4636-4f06-ad61-1e148e178c3a",
   "metadata": {},
   "outputs": [
    {
     "name": "stdout",
     "output_type": "stream",
     "text": [
      "soma de matrizes: [[1, 3, 5], [7, 9, 1], [3, 5, 7]] + [[-2, 5, 9], [11, 0, -4], [3, 12, 8]]\n",
      "[[-1, 8, 14], [18, 9, -3], [6, 17, 15]]\n",
      "\n",
      "multiplicação por escalar: [[2, 3, 8], [-4, 1, 2], [9, 0, -5]] * 6\n",
      "[[12, 18, 48], [-24, 6, 12], [54, 0, -30]]\n",
      "\n",
      "multiplicação de matrizes: [[2, 2, 2], [3, 3, 3]] * [[2, 3, 8], [-4, 1, 2], [9, 0, -5]]\n",
      "[[14, 8, 10], [21, 12, 15]]\n",
      "\n",
      "a transposta de [[1.5, 10, -3.3], [140, -51.73, 6], [9, 0, 0]] é:\n",
      "[[1.5, 140, 9], [10, -51.73, 0], [-3.3, 6, 0]]\n",
      "o determinante de [[1.5, 10, -3.3], [140, -51.73, 6], [9, 0, 0]] é:\n",
      "-996.3809999999999\n"
     ]
    }
   ],
   "source": [
    "#exemplos:\n",
    "M1 = [[1,3,5],[7,9,1],[3,5,7]]\n",
    "M2 = [[2,3,8],[-4,1,2],[9,0,-5]]\n",
    "M3 = [[-2,5,9],[11,0,-4],[3,12,8]]\n",
    "M4 = [[2,2,2],[3,3,3]]\n",
    "M5 = [[1.5,10,-3.3],[140,-51.73,6],[9,0,0]]\n",
    "\n",
    "A1, B1 = [2, 6], [6, 12]\n",
    "A2, B2 = [6, 9], [11, 4]\n",
    "A3, B3 = [3, 8], [14, 7]\n",
    "\n",
    "print('soma de matrizes:', M1, '+', M3)\n",
    "print(soma_matrizes(M1, M3))\n",
    "print ()\n",
    "print('multiplicação por escalar:', M2, '*', 6)\n",
    "print(matriz_escalar(M2,6))\n",
    "print()\n",
    "print('multiplicação de matrizes:', M4, \"*\", M2)\n",
    "print(mult_matrizes(M4, M2))\n",
    "print()\n",
    "print(\"a transposta de\", M5, \"é:\")\n",
    "print(transposta(M5))\n",
    "print(\"o determinante de\", M5, \"é:\")\n",
    "print(determinante(M5))\n",
    "   \n",
    "\n"
   ]
  },
  {
   "cell_type": "code",
   "execution_count": 151,
   "id": "86b254f5-ee34-484b-8b62-24c1a0fed10a",
   "metadata": {},
   "outputs": [
    {
     "name": "stdout",
     "output_type": "stream",
     "text": [
      "produto escalar de  [2, 6] [6, 9] é 38\n",
      "\n",
      "norma de [3, 8] é 8.54400374531753\n",
      "\n",
      "o ângulo formado entre [2, 6] e [3, 8] é 0.7908777251363253\n",
      "\n",
      "o produto vetorial entre [6, 9] e [2, 6] é [-198, -516, 6972]\n",
      "\n",
      "[[1, 7, 3], [3, 9, 5], [5, 1, 7]]\n",
      "[[35, 39, 53], [39, 131, 73], [53, 73, 83]]\n",
      "a matriz [[1, 3, 5], [7, 9, 1], [3, 5, 7]] é ortogonal? False\n",
      "\n",
      "[[1, 0, 0], [0, 1, 0], [0, 0, 1]]\n",
      "[[1, 0, 0], [0, 1, 0], [0, 0, 1]]\n",
      "a matriz [[1, 0, 0], [0, 1, 0], [0, 0, 1]] é ortogonal? True\n"
     ]
    }
   ],
   "source": [
    "A1 = [2, 6]\n",
    "A2 = [6, 9]\n",
    "A3 = [3, 8]\n",
    "\n",
    "\n",
    "print('produto escalar de ', A1 , A2 ,'é', ProdutoEscalar(A1, A2))\n",
    "print()\n",
    "print('norma de', A3, 'é',Norma(A3))\n",
    "print()\n",
    "print('o ângulo formado entre', A1, 'e', A3, 'é', ÂnguloEntreDoisVetores(A1,A3))\n",
    "print()\n",
    "print('o produto vetorial entre' , A2 ,'e', A1, 'é', ProdutoVetorial(A,B))\n",
    "print()\n",
    "print ('a matriz' , M1, 'é ortogonal?', ortogonal(M1))\n",
    "print()\n",
    "print ('a matriz' , identidade(M3), 'é ortogonal?', ortogonal(identidade(M3)))"
   ]
  },
  {
   "cell_type": "code",
   "execution_count": null,
   "id": "7b9ff432-2581-4dc3-903c-0707d12c141a",
   "metadata": {},
   "outputs": [
    {
     "name": "stdout",
     "output_type": "stream",
     "text": [
      "-2730\n",
      "\n",
      "-129318\n",
      "\n",
      "84\n",
      "\n"
     ]
    }
   ],
   "source": [
    "#laplace correto final\n",
    "M = [[2,7,8],\n",
    "     [123,77,9],\n",
    "     [6,5,6],\n",
    "    ]\n",
    "\n",
    "F = [[1,2,3,4],\n",
    "     [5,6,7,8],\n",
    "     [9,10,11,12],\n",
    "     [13,14,15,16],\n",
    "    ]\n",
    "\n",
    "H = [[2,3,5,6,12],\n",
    "     [4,2,1,1,44],\n",
    "     [5,1,2,3,565],\n",
    "     [6,1,3,2,66],\n",
    "     [9,8,0,7,87],\n",
    "    ]\n",
    "\n",
    "Z = [[2,3,5,6],\n",
    "     [4,2,1,1],\n",
    "     [5,1,2,3],\n",
    "     [6,1,3,2],\n",
    "    ]\n",
    "\n",
    "P = [[2,7,8,11,-22,55,-1,33,56,788,99,-1],\n",
    "     [123,77,9,8,12345,123,22,-9,-8,-776,-6,-2],\n",
    "     [6,5,6,7,-67,56,-9,0.2,0.44433,10,-11,-65],\n",
    "     [34,0,7,5,-5,86,-98,577,0.888,0.12455,0.8675,0.000213],\n",
    "     [-545,7,-55,-888,0,99,-0.9,9,18,10,-22,-0.00009],\n",
    "     [53,-776,886,-7767,9,-7,0.899,-0.000009874748,9284,1000,-873,-12],\n",
    "     [2,3,5,6,12,0.99999,0.12341,-0.987284,0.0128474,0.1499498432,-12314144,123],\n",
    "     [-4,2,1,1,44,2314,57457,867,8667868,67865,45645,345354],\n",
    "     [5,-1,2,3,565,23452,-0.945935,0.38583845,-0.8235884,-828532845,1231,12],\n",
    "     [-6,1,3,-2,66,24234,5234,61253,-912,19,11,-0.9999],\n",
    "     [9,-8,0,7,-87,1231,995395,234234,13241,43214,324234,21555],\n",
    "     [-0.83747,-0.894829,-0.727183,-0.884728378473274,123,877,9999,627487,-918248,10,11,3.1415],\n",
    "    ]\n",
    "\n",
    "print(determinante(M))\n",
    "print ()\n",
    "print(determinante(H))\n",
    "print()\n",
    "print(determinante(Z))\n",
    "print()\n",
    "print(determinante(P))"
   ]
  },
  {
   "cell_type": "code",
   "execution_count": null,
   "id": "30a5105a-a71f-42d8-b476-5e32ca6291bb",
   "metadata": {},
   "outputs": [],
   "source": []
  }
 ],
 "metadata": {
  "kernelspec": {
   "display_name": "ilumpy",
   "language": "python",
   "name": "ilumpy"
  },
  "language_info": {
   "codemirror_mode": {
    "name": "ipython",
    "version": 3
   },
   "file_extension": ".py",
   "mimetype": "text/x-python",
   "name": "python",
   "nbconvert_exporter": "python",
   "pygments_lexer": "ipython3",
   "version": "3.9.7"
  }
 },
 "nbformat": 4,
 "nbformat_minor": 5
}
